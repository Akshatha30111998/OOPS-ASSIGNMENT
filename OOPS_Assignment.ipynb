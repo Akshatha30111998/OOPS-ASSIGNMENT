{
  "nbformat": 4,
  "nbformat_minor": 0,
  "metadata": {
    "colab": {
      "provenance": []
    },
    "kernelspec": {
      "name": "python3",
      "display_name": "Python 3"
    },
    "language_info": {
      "name": "python"
    }
  },
  "cells": [
    {
      "cell_type": "markdown",
      "source": [
        "##THEORY OOPS ASSIGNMENT\n",
        "\n",
        "1.What is Object-Oriented Programming (OOP)?\n",
        "- Object-oriented programming (OOP) is a programming style that organizes software around objects, rather than functions and logic. Objects are units that contain data and code, and are the building blocks of computer programs.\n",
        "\n",
        " - Identify objects: Programmers identify the objects they want to manipulate and how they relate to each other.\n",
        " - Define classes: Programmers define classes that act as blueprints for creating objects.\n",
        "  - Create objects: Programmers create objects as instances of the class.\n",
        "Make objects interact: Programmers design programs by making objects interact with each other.\n",
        "\n",
        "2. What is a class in OOP?\n",
        "- A class is a template for creating objects. It defines the properties and behaviors of the objects that are created from it.\n",
        "  - Use cases\n",
        "- Use the keyword class to create a class.\n",
        "- To create an object, use the constructor of the class.\n",
        "- Use the . notation to access the attributes of a class.\n",
        "- For example, bike1.name changes and bike1.gear accesses the value of name and gear attributes, respectively.\n",
        "\n",
        "3.What is an object in OOP?\n",
        "- In object-oriented programming (OOP), an object is a unit of code that represents a specific aspect of a program. Objects are the basic building blocks of OOP and are used to model systems.\n",
        "  - Use cases\n",
        "- Objects are used to model real-world things, like people, cars, or shopping carts\n",
        "- Objects can also represent abstract concepts, like open files or measurement conversion services\n",
        "- Objects are used to organize software design around data, rather than logic  \n",
        "  - objects contain\n",
        "- Data\n",
        "Objects contain data fields, also known as attributes, properties, or members\n",
        "- Methods\n",
        "Objects contain methods, which are procedures or subroutines that define how the object behaves.\n",
        "\n",
        "4.What is the difference between abstraction and encapsulation?\n",
        " -  Abstraction simplifies complex systems by hiding details, while encapsulation protects data by restricting access to it. Both are key principles of Object-Oriented Programming (OOP).\n",
        " -  Abstraction:\n",
        "- Hides implementation details to focus on the essential features of an object or system.\n",
        "- Provides a high-level view that simplifies complexity.\n",
        "- Improves code readability and maintainability.\n",
        " - Encapsulation:\n",
        "  -  Bundles data and methods within a class to control access to them.\n",
        "  -  Secures data and functions within a class to prevent unauthorized access.\n",
        "  -  Ensures data integrity and privacy.\n",
        "\n",
        "5.What are dunder methods in Python?\n",
        "- Dunder methods, also known as magic methods or special methods, are predefined methods in Python that add special functionality to classes and objects. They are recognized by the double underscore format, such as __init __.\n",
        "- Initialize: Create objects from a class.\n",
        "- String representation: Provide a string representation of an object.\n",
        "- Iteration: Make a class iterable.\n",
        "- Operator overloading: Compare objects.\n",
        "- Arithmetic operations: Perform arithmetic operations on numeric-type attributes.\n",
        "\n",
        "6.Explain the concept of inheritance in OOP?\n",
        " - Inheritance is a fundamental concept in object-oriented programming (OOP) that allows a class (called a child or derived class) to inherit attributes and methods from another class (called a parent or base class). This promotes code reuse, modularity, and a hierarchical class structure. In this article, we’ll explore inheritance in Python.\n",
        "- To create a child class, pass the parent class as a parameter.\n",
        "- The child class inherits all the attributes and methods of the parent class.\n",
        "- The child class can add its own attributes and methods.\n",
        "- The child class can override methods from the parent class.\n",
        " - Benefits of inheritance\n",
        "  - Code reuse: Inheritance allows programmers to reuse code from existing classes.\n",
        "  - Well-structured code: Inheritance makes it easier to write logical and well-structured code.\n",
        "  - Reduces duplication: Inheritance reduces the amount of duplicated code.\n",
        "\n",
        "7.What is polymorphism in OOP?\n",
        "- Polymorphism in Python is a concept in object-oriented programming (OOP) that allows the same function name to be used for different types of objects. The word \"polymorphism\" means \"many forms\".\n",
        " - Polymorphism:\n",
        "- Method overriding: A subclass can override a method defined in its superclass. This allows the subclass to customize or replace the behavior of the inherited method.\n",
        "- Inheritance: A subclass can have methods with the same name as the methods in the superclass. This allows objects of different classes to be treated as objects of a common superclass.\n",
        "- Operator overloading: An operator can be used in multiple ways beyond its predefined meaning.  \n",
        "\n",
        "8.How is encapsulation achieved in Python?\n",
        "- Encapsulation in Python is achieved by using access modifiers to control access to a class's variables and methods. These access modifiers include public, private, and protected.\n",
        "- Public members\n",
        "  -  By default, all attributes and methods in a class are public.\n",
        "  -  They can be accessed from outside the class.\n",
        "  -  They can be accessed using the dot operator on an object.\n",
        "- Private members\n",
        "  -  To make an attribute or method private, use a double underscore prefix (__) before its name\n",
        "  - They are only accessible within the class.\n",
        "  - They are meant for internal use only.\n",
        "- Protected members\n",
        "  - To make an attribute or method protected, use a single underscore prefix (_) before its name.\n",
        "  - They are only accessible within the class and its subclasses.\n",
        "\n",
        "9.What is a constructor in Python?\n",
        "- A constructor in Python is a special method that is automatically called when an object of a class is created. It is used to initialize the object's attributes and set its initial state.\n",
        "  - The constructor method is named __init__() and is defined within the class definition.\n",
        "  - The __init__() method is called automatically when an object is created.\n",
        "  - The __init__() method can take parameters to pass initial values to the object's attributes.\n",
        "  - The __init__() method can also call class methods to perform other setup processes.\n",
        "  - EXAMPLE:\n",
        "\n",
        "10.What are class and static methods in Python?\n",
        " - Class methods and static methods are used to define methods within a class. Class methods are used to manipulate the class or its data, while static methods are used for utility functions.\n",
        "  - Class methods:  \n",
        "  -  Take the class as the first argument (cls).\n",
        "  -  Can access and modify class-level attributes.\n",
        "  - Can be used to create alternative constructors.\n",
        "  -  Can be used to perform actions that affect the class as a whole.\n",
        "- Example for class method:\n",
        "\n",
        "  \n"
      ],
      "metadata": {
        "id": "wjKS1muiQd7P"
      }
    },
    {
      "cell_type": "code",
      "source": [
        "class MyClass:\n",
        "    def __init__(self, value):\n",
        "        self.value = value\n",
        "\n",
        "    def get_value(self):\n",
        "        return self.value\n",
        "\n",
        "# Create an instance of MyClass\n",
        "obj = MyClass(10)\n",
        "\n",
        "# Call the get_value method on the instance\n",
        "print(obj.get_value())  # Output: 10"
      ],
      "metadata": {
        "colab": {
          "base_uri": "https://localhost:8080/"
        },
        "id": "FJRXblHn3LZU",
        "outputId": "4f6141aa-3e28-459c-fa8a-ea23d375379b"
      },
      "execution_count": null,
      "outputs": [
        {
          "output_type": "stream",
          "name": "stdout",
          "text": [
            "10\n"
          ]
        }
      ]
    },
    {
      "cell_type": "markdown",
      "source": [
        "  - Example for Static method:\n",
        "  "
      ],
      "metadata": {
        "id": "Ts4KTJek3V_h"
      }
    },
    {
      "cell_type": "code",
      "source": [
        "class MyClass:\n",
        "    def __init__(self, value):\n",
        "        self.value = value\n",
        "\n",
        "    @staticmethod\n",
        "    def get_max_value(x, y):\n",
        "        return max(x, y)\n",
        "\n",
        "# Create an instance of MyClass\n",
        "obj = MyClass(10)\n",
        "\n",
        "print(MyClass.get_max_value(20, 30))\n",
        "\n",
        "print(obj.get_max_value(20, 30))"
      ],
      "metadata": {
        "colab": {
          "base_uri": "https://localhost:8080/"
        },
        "id": "wHn170SG3gru",
        "outputId": "c7d6ba98-1d93-44c7-d60d-3d4bac5a768d"
      },
      "execution_count": null,
      "outputs": [
        {
          "output_type": "stream",
          "name": "stdout",
          "text": [
            "30\n",
            "30\n"
          ]
        }
      ]
    },
    {
      "cell_type": "markdown",
      "source": [
        "11.What is method overloading in Python?\n",
        " - Method overloading in Python is the ability to define multiple methods with the same name but different parameters. This concept is used to create different implementations of a method based on the arguments passed.\n",
        " - Two methods cannot have the same name in Python; hence method overloading is a feature that allows the same operator to have different meanings. - - -\n",
        " - Overloading is a method or operator that can do different functionalities with the same name.\n",
        "\n",
        " 12.What is method overriding in OOP?\n",
        " - Method overriding, in object-oriented programming, is a language feature that allows a subclass or child class to provide a specific implementation of a method that is already provided by one of its superclasses or parent classes.\n",
        " - Function overriding provides you with a way to override an existing functionality of a class inside a particular derived class. This can be useful when a child class requires its own version of a functionality.\n",
        "\n",
        " 13. What is a property decorator in Python?\n",
        " - The Python property decorator makes attributes in a class act like read-only properties. Essentially, it lets you access methods as if they were attributes, without needing to write parentheses.\n",
        " - Python programming provides us with a built-in @property decorator which makes usage of getters and setters much easier in Object-Oriented Programming.\n",
        "\n",
        " 14.Why is polymorphism important in OOP?\n",
        " - Polymorphism is an important feature of object-oriented programming (OOP) because it allows programmers to write more efficient and flexible code. It also makes it easier to maintain and update software over time.\n",
        "   - Code reuse\n",
        " - Polymorphism allows programmers to reuse code, which saves time and reduces redundancy.\n",
        "   - Code readability\n",
        " - Polymorphism makes code easier to read and maintain.\n",
        "  - Code extensibility\n",
        " - Polymorphism allows programmers to easily create new classes based on existing classes.\n",
        "  - Code debugging\n",
        " - Polymorphism simplifies debugging by making it easier to identify and fix issues.\n",
        "  - Code scalability\n",
        " - Polymorphism makes it easier to scale a program by adding new features or functionality.\n",
        "  - Code flexibility\n",
        " - Polymorphism allows programmers to write generic code that can work with different types of objects.\n",
        "\n",
        " 15.What is an abstract class in Python?\n",
        "  - An abstract class in Python is a class that can't be instantiated on its own, but is used as a blueprint for other classes. Abstract classes are created using the abc (Abstract Base Classes) module.\n",
        "   - Features of abstract classes\n",
        " - Abstract methods: Abstract classes can contain methods that are declared but don't have an implementation. These methods are required to be implemented by any subclass of the abstract class.\n",
        " - Abstract properties: Abstract classes can specify properties that subclasses must implement.\n",
        " - Common interface: Abstract classes provide a common interface for all derived classes.\n",
        "\n",
        "16.F What are the advantages of OOP?\n",
        " - Modularity\n",
        "- Code is organized into self-contained objects, making it easier to maintain and debug.  \n",
        " - Reusability\n",
        "- Objects and classes can be reused across different programs, saving development time.\n",
        " - Scalability\n",
        "- OOP makes it easier to extend applications by introducing new functionality without disrupting existing code.\n",
        " - Encapsulation\n",
        "  - Data and methods are bundled within a class, making it easier to debug and maintain.\n",
        " - Inheritance\n",
        "- New classes can extend existing ones, adding new functionality without altering existing code.\n",
        " -  Problem solving\n",
        "- OOP breaks down software code into smaller chunks, making it easier to solve complex problems.\n",
        " - Extensibility\n",
        "- New functionality can be added with minimal changes to existing code.\n",
        "\n",
        "17.What is the difference between a class variable and an instance variable?\n",
        "- Instance Variable: It is basically a class variable without a static modifier and is usually shared by all class instances. Across different objects, these variables can have different values. They are tied to a particular object instance of the class, therefore, the contents of an instance variable are totally independent of one object instance to others.\n",
        "- It is basically a static variable that can be declared anywhere at class level with static. Across different objects, these variables can have only one value. These variables are not tied to any particular object of the class, therefore, can share across all objects of the class.  \n",
        "- The main difference between a class variable and an instance variable is that class variables are shared by all instances of a class, while instance variables are unique to each instance.\n",
        "- Class variables:\n",
        "  - Defined within a class, usually before the constructor.\n",
        "  - Shared by all instances of the class.\n",
        "  - Can be accessed using the class name or an instance of the class.\n",
        "  - Typically have the same value for every instance.\n",
        "- Instance variables:\n",
        "  - Defined within methods, usually outside of constructors, methods, or blocks.\n",
        "  - Unique to each instance of the class.\n",
        "  - Created when an instance of the class is created.\n",
        "  - Accessible to all the constructors, methods, or blocks in the class.\n",
        "  - Can be accessed using the self keyword.\\\n",
        "\n",
        "18.What is multiple inheritance in Python?\n",
        "- Multiple Inheritanceis a feature that lets a class inherit attributes and methods from more than one parent class. This allows for the creation of a class that combines the behaviors or attributes of multiple other classes.\n",
        "- When a class is derived from more than one base class it is called multiple Inheritance. The derived class inherits all the features of the base case.\n",
        "\n",
        "19. Explain the purpose of ‘’ __str__ ’ and ‘__repr__’ ‘ methods in Python?\n",
        "- In Python, the __str__ and __repr__ methods are used to create string representations of objects. __str__ is used to create informal representations for end-users, while __repr__ is used to create formal representations for developers.\n",
        "- Purpose:\n",
        " - str: Creates a readable representation of an object for end-users.\n",
        " - repr: Creates a detailed and precise representation of an object for developers.\n",
        "\n",
        "20. What is the significance of the ‘super()’ function in Python?\n",
        "- The super() function in Python is a built-in function that allows access to methods and properties of a parent class from a child class. It is useful in object-oriented programming, especially when working with inheritance.\n",
        "- Significance\n",
        " -  Avoids code duplication\n",
        "- super() allows you to call methods from the parent class without explicitly naming the parent class. This can make your code more flexible and easier to maintain.\n",
        " - Extends functionality\n",
        "- super() allows you to extend the functionality of inherited methods within a child class.\n",
        " - Necessary for complex class hierarchies\n",
        "- super() is necessary for more complex class hierarchies that use dependency injection and multiple inheritance.\n",
        "\n",
        "21.What is the significance of the __del__ method in Python?\n",
        "- The __del__ method exists to release any resources held by an object when that object is deleted. The __del__ is called only by the garbage collector which may call it after an indefinite delay or never. Consequently, __del__ method should not be relied on to release resources, such as file descriptors.\n",
        "\n",
        "22.What is the difference between @staticmethod and @classmethod in Python?\n",
        " - Static Method in Python\n",
        "  - Static methods, as the name suggests, are not bound to either the class or its instances. They are defined using the @staticmethod decorator and do not take a reference to the instance or the class as their first parameter. Static methods are essentially regular functions within the class namespace and are useful for tasks that do not depend on instance-specific or class-specific data.\n",
        " - Class Method in Python\n",
        "  -  Class methods are associated with the class rather than instances. They are defined using the @classmethod decorator and take the class itself as the first parameter, usually named cls. Class methods are useful for tasks that involve the class rather than the instance, such as creating class-specific behaviors or modifying class-level attributes.\n",
        "\n",
        "23.How does polymorphism work in Python with inheritance?\n",
        " - Polymorphism, a child class method is allowed to have the same name as the class methods in the parent class. In inheritance, the methods belonging to the parent class are passed down to the child class. It's also possible to change a method that a child class has inherited from its parent.\n",
        " - Inheritance permits new classes to inherit features from existing classes, decreasing redundancy and reusing code. Polymorphism lets objects of diverse types share the same interface, empowering methods to be executed unexpectedly based on the object type. This decreases the code required and streamlines upkeep.\n",
        "\n",
        "24.What is method chaining in Python OOP?\n",
        "-  Method chaining refers to calling multiple methods sequentially on the same object in a single expression. Each method call returns an object, often the same object (modified or not), allowing the subsequent method to operate on that object.\n",
        "- Method chaining is a syntax in Python that allows you to call multiple methods on an object in a single line of code. It's a common technique in object-oriented programming (OOP).\n",
        "\n",
        "25.What is the purpose of the __call__ method in Python?\n",
        "- The __call__ method in Python allows programmers to write classes that behave like functions. This allows the instances of the class to be called like functions.\n",
        "- Explanation\n",
        "  - The __call__ method is a built-in method in Python.\n",
        "  - It's also known as a dunder or magic method because of the two prefixes and suffix underscores in its name.\n",
        "  - The __call__ method allows programmers to invoke class instances as functions.\n",
        "  - The __call__ method can be used to transform any object into a callable object."
      ],
      "metadata": {
        "id": "ChXaFd3s32WG"
      }
    },
    {
      "cell_type": "code",
      "source": [
        "#1. Create a parent class Animal with a method speak() that prints a generic message. Create a child class Dog\n",
        "#that overrides the speak() method to print \"Bark!\".\n",
        "class Animal:\n",
        "\n",
        "    def speak(self):\n",
        "\n",
        "        print(\"This animal makes a sound.\")\n",
        "\n",
        "\n",
        "\n",
        "class Dog(Animal):\n",
        "\n",
        "    def speak(self):\n",
        "\n",
        "        print(\"Bark!\")\n",
        "\n",
        "\n",
        "\n",
        "dog = Dog()\n",
        "\n",
        "dog.speak()\n"
      ],
      "metadata": {
        "colab": {
          "base_uri": "https://localhost:8080/"
        },
        "id": "uN0myExTLaVd",
        "outputId": "bd9fbc27-6e6f-4ee6-e2df-c9ae69bea667"
      },
      "execution_count": null,
      "outputs": [
        {
          "output_type": "stream",
          "name": "stdout",
          "text": [
            "Bark!\n"
          ]
        }
      ]
    },
    {
      "cell_type": "code",
      "source": [
        "#2. Write a program to create an abstract class Shape with a method area(). Derive classes Circle and Rectangle\n",
        "#from it and implement the area() method in both.\n",
        "class Shape:\n",
        "    def area(self):\n",
        "        raise NotImplementedError(\"Area method must be implemented in subclass\")\n",
        "\n",
        "class Circle(Shape):\n",
        "    def __init__(self, radius):\n",
        "        self.radius = radius\n",
        "\n",
        "    def area(self):\n",
        "        from math import pi\n",
        "        return pi * (self.radius ** 2)\n",
        "\n",
        "class Rectangle(Shape):\n",
        "    def __init__(self, length, width):\n",
        "        self.length = length\n",
        "        self.width = width\n",
        "\n",
        "    def area(self):\n",
        "        return self.length * self.width\n",
        "\n",
        "# Example usage\n",
        "circle = Circle(5)\n",
        "print(f\"Circle area: {circle.area()}\")\n",
        "\n",
        "rectangle = Rectangle(3, 4)\n",
        "print(f\"Rectangle area: {rectangle.area()}\")\n"
      ],
      "metadata": {
        "colab": {
          "base_uri": "https://localhost:8080/"
        },
        "id": "QIBwjEDZL34C",
        "outputId": "7f1a8715-6e0f-471f-adb5-0c5ad92bc765"
      },
      "execution_count": null,
      "outputs": [
        {
          "output_type": "stream",
          "name": "stdout",
          "text": [
            "Circle area: 78.53981633974483\n",
            "Rectangle area: 12\n"
          ]
        }
      ]
    },
    {
      "cell_type": "code",
      "source": [
        "#3. Implement a multi-level inheritance scenario where a class Vehicle has an attribute type. Derive a class Car\n",
        "#and further derive a class ElectricCar that adds a battery attribute.\n",
        "\n",
        "# Base class: Vehicle\n",
        "class Vehicle:\n",
        "    def __init__(self, type):\n",
        "        self.type = type\n",
        "\n",
        "    def display_details(self):\n",
        "        print(f\"Vehicle Type: {self.type}\")\n",
        "\n",
        "# Intermediate class: Car (inherits from Vehicle)\n",
        "class Car(Vehicle):\n",
        "    def __init__(self, type, num_doors):\n",
        "        super().__init__(type)  # Calls Vehicle's __init__ method\n",
        "        self.num_doors = num_doors\n",
        "\n",
        "    def display_details(self):\n",
        "        super().display_details()  # Calls Vehicle's display_details method\n",
        "        print(f\"Number of Doors: {self.num_doors}\")\n",
        "\n",
        "# Derived class: ElectricCar (inherits from Car)\n",
        "class ElectricCar(Car):\n",
        "    def __init__(self, type, num_doors, battery_capacity):\n",
        "        super().__init__(type, num_doors)  # Calls Car's __init__ method\n",
        "        self.battery_capacity = battery_capacity\n",
        "\n",
        "    def display_details(self):\n",
        "        super().display_details()  # Calls Car's display_details method\n",
        "        print(f\"Battery Capacity: {self.battery_capacity} kWh\")\n",
        "\n",
        "# Example usage:\n",
        "electric_car = ElectricCar(\"Sedan\", 4, 75)\n",
        "electric_car.display_details()\n"
      ],
      "metadata": {
        "id": "JAVB464URWk1",
        "colab": {
          "base_uri": "https://localhost:8080/"
        },
        "outputId": "ad1c5d8d-4a2e-4661-cd64-ab4eca1fe69b"
      },
      "execution_count": 23,
      "outputs": [
        {
          "output_type": "stream",
          "name": "stdout",
          "text": [
            "Vehicle Type: Sedan\n",
            "Number of Doors: 4\n",
            "Battery Capacity: 75 kWh\n"
          ]
        }
      ]
    },
    {
      "cell_type": "code",
      "source": [
        "#4. Implement a multi-level inheritance scenario where a class Vehicle has an attribute type. Derive a class Car\n",
        "#and further derive a class ElectricCar that adds a battery attribute\n",
        "\n",
        "# Base class: Vehicle\n",
        "class Vehicle:\n",
        "    def __init__(self, type):\n",
        "        self.type = type\n",
        "\n",
        "    def display_details(self):\n",
        "        print(f\"Vehicle Type: {self.type}\")\n",
        "\n",
        "# Intermediate class: Car (inherits from Vehicle)\n",
        "class Car(Vehicle):\n",
        "    def __init__(self, type, num_doors):\n",
        "        super().__init__(type)  # Calls Vehicle's __init__ method\n",
        "        self.num_doors = num_doors\n",
        "\n",
        "    def display_details(self):\n",
        "        super().display_details()  # Calls Vehicle's display_details method\n",
        "        print(f\"Number of Doors: {self.num_doors}\")\n",
        "\n",
        "# Derived class: ElectricCar (inherits from Car)\n",
        "class ElectricCar(Car):\n",
        "    def __init__(self, type, num_doors, battery_capacity):\n",
        "        super().__init__(type, num_doors)  # Calls Car's __init__ method\n",
        "        self.battery_capacity = battery_capacity\n",
        "\n",
        "    def display_details(self):\n",
        "        super().display_details()  # Calls Car's display_details method\n",
        "        print(f\"Battery Capacity: {self.battery_capacity} kWh\")\n",
        "\n",
        "# Example usage:\n",
        "electric_car = ElectricCar(\"Sedan\", 4, 75)\n",
        "electric_car.display_details()"
      ],
      "metadata": {
        "colab": {
          "base_uri": "https://localhost:8080/"
        },
        "id": "2CfC2HlKbQHG",
        "outputId": "d9ae37b2-120b-48a3-b408-fbebbf7f63a4"
      },
      "execution_count": 24,
      "outputs": [
        {
          "output_type": "stream",
          "name": "stdout",
          "text": [
            "Vehicle Type: Sedan\n",
            "Number of Doors: 4\n",
            "Battery Capacity: 75 kWh\n"
          ]
        }
      ]
    },
    {
      "cell_type": "code",
      "source": [
        "#5.5. Write a program to demonstrate encapsulation by creating a class BankAccount with private attributes\n",
        "#balance and methods to deposit, withdraw, and check balance.\n",
        "class BankAccount:\n",
        "    def __init__(self, initial_balance=0):\n",
        "        self.__balance = initial_balance  # Private attribute\n",
        "\n",
        "    def deposit(self, amount):\n",
        "        if amount > 0:\n",
        "            self.__balance += amount\n",
        "            print(f\"Deposited: {amount}. New balance: {self.__balance}\")\n",
        "        else:\n",
        "            print(\"Invalid deposit amount.\")\n",
        "\n",
        "    def withdraw(self, amount):\n",
        "        if 0 < amount <= self.__balance:\n",
        "            self.__balance -= amount\n",
        "            print(f\"Withdrew: {amount}. New balance: {self.__balance}\")\n",
        "        else:\n",
        "            print(\"Invalid withdrawal amount.\")\n",
        "\n",
        "    def check_balance(self):\n",
        "        print(f\"Current balance: {self.__balance}\")\n",
        "\n",
        "# Example usage\n",
        "account = BankAccount(1000)  # Initial balance: 1000\n",
        "account.check_balance()  # Output: Current balance: 1000\n",
        "account.deposit(500)  # Output: Deposited: 500. New balance: 1500\n",
        "account.withdraw(200)  # Output: Withdrew: 200. New balance: 1300\n",
        "account.check_balance()  # Output: Current balance: 1300\n",
        "\n",
        "# Attempting to access private attribute directly will raise an AttributeError\n",
        "try:\n",
        "    print(account.__balance)\n",
        "except AttributeError:\n",
        "    print(\"Error: Cannot access private attribute directly.\")\n",
        "\n",
        "\n"
      ],
      "metadata": {
        "colab": {
          "base_uri": "https://localhost:8080/"
        },
        "id": "kdCkECA_dwHH",
        "outputId": "27e96d36-6b41-44b7-8db2-4f36730baf98"
      },
      "execution_count": 25,
      "outputs": [
        {
          "output_type": "stream",
          "name": "stdout",
          "text": [
            "Current balance: 1000\n",
            "Deposited: 500. New balance: 1500\n",
            "Withdrew: 200. New balance: 1300\n",
            "Current balance: 1300\n",
            "Error: Cannot access private attribute directly.\n"
          ]
        }
      ]
    },
    {
      "cell_type": "code",
      "source": [
        "#6.Demonstrate runtime polymorphism using a method play() in a base class Instrument. Derive classes Guitar\n",
        "#and Piano that implement their own version of play().\n",
        "class Instrument:\n",
        "    def play(self):\n",
        "        pass  # Method to be implemented by subclasses\n",
        "\n",
        "# Subclass: Guitar\n",
        "class Guitar(Instrument):\n",
        "    def play(self):\n",
        "        print(\"Strumming the guitar...\")\n",
        "\n",
        "# Subclass: Piano\n",
        "class Piano(Instrument):\n",
        "    def play(self):\n",
        "        print(\"Playing the piano melody...\")\n",
        "\n",
        "# Function to demonstrate runtime polymorphism\n",
        "def play_instrument(instrument: Instrument):\n",
        "    instrument.play()\n",
        "\n",
        "# Example usage\n",
        "guitar = Guitar()\n",
        "piano = Piano()\n",
        "\n",
        "play_instrument(guitar)  # Output: Strumming the guitar...\n",
        "play_instrument(piano)   # Output: Playing the piano melody...\n",
        "\n",
        "# Runtime polymorphism in action\n",
        "instruments = [Guitar(), Piano(), Guitar(), Piano()]\n",
        "for instrument in instruments:\n",
        "    instrument.play()\n"
      ],
      "metadata": {
        "colab": {
          "base_uri": "https://localhost:8080/"
        },
        "id": "HS-izwD2ecDv",
        "outputId": "b96f4ff8-a491-4640-92de-959343282675"
      },
      "execution_count": 26,
      "outputs": [
        {
          "output_type": "stream",
          "name": "stdout",
          "text": [
            "Strumming the guitar...\n",
            "Playing the piano melody...\n",
            "Strumming the guitar...\n",
            "Playing the piano melody...\n",
            "Strumming the guitar...\n",
            "Playing the piano melody...\n"
          ]
        }
      ]
    },
    {
      "cell_type": "code",
      "source": [
        "#7. Create a class MathOperations with a class method add_numbers() to add two numbers and a static\n",
        "#method subtract_numbers() to subtract two numbers.\n",
        "class MathOperations:\n",
        "    # Class method to add two numbers\n",
        "    @classmethod\n",
        "    def add_numbers(cls, num1, num2):\n",
        "        \"\"\"Returns the sum of two numbers.\"\"\"\n",
        "        return num1 + num2\n",
        "\n",
        "    # Static method to subtract two numbers\n",
        "    @staticmethod\n",
        "    def subtract_numbers(num1, num2):\n",
        "        \"\"\"Returns the difference of two numbers.\"\"\"\n",
        "        return num1 - num2\n",
        "\n",
        "print(MathOperations.add_numbers(10, 5))\n",
        "print(MathOperations.subtract_numbers(10, 5))\n"
      ],
      "metadata": {
        "colab": {
          "base_uri": "https://localhost:8080/"
        },
        "id": "H4cvn34si19r",
        "outputId": "e18d43c2-2aa5-43f8-fcaa-ab0345699069"
      },
      "execution_count": 29,
      "outputs": [
        {
          "output_type": "stream",
          "name": "stdout",
          "text": [
            "15\n",
            "5\n"
          ]
        }
      ]
    },
    {
      "cell_type": "code",
      "source": [
        "#8. Implement a class Person with a class method to count the total number of persons created.\n",
        "class Person:\n",
        "    # Class variable to store the count of persons\n",
        "    person_count = 0\n",
        "\n",
        "    def __init__(self, name, age):\n",
        "        self.name = name\n",
        "        self.age = age\n",
        "        # Increment the person count for each new instance\n",
        "        Person.person_count += 1\n",
        "\n",
        "    # Class method to get the total person count\n",
        "    @classmethod\n",
        "    def get_person_count(cls):\n",
        "        return cls.person_count\n",
        "\n",
        "# Example usage\n",
        "person1 = Person(\"John Doe\", 30)\n",
        "person2 = Person(\"Jane Doe\", 25)\n",
        "person3 = Person(\"Bob Smith\", 40)\n",
        "\n",
        "print(Person.get_person_count())\n"
      ],
      "metadata": {
        "colab": {
          "base_uri": "https://localhost:8080/"
        },
        "id": "c-pLs1c6i_DV",
        "outputId": "6cc01893-cc50-4438-a515-ed9c330daa3c"
      },
      "execution_count": 30,
      "outputs": [
        {
          "output_type": "stream",
          "name": "stdout",
          "text": [
            "3\n"
          ]
        }
      ]
    },
    {
      "cell_type": "code",
      "source": [
        "#9. Write a class Fraction with attributes numerator and denominator. Override the str method to display the\n",
        "#fraction as \"numerator/denominator\".\n",
        "class Fraction:\n",
        "    def __init__(self, numerator, denominator):\n",
        "        if denominator == 0:\n",
        "            raise ValueError(\"Denominator cannot be zero.\")\n",
        "        self.numerator = numerator\n",
        "        self.denominator = denominator\n",
        "\n",
        "    # Override the __str__ method to display the fraction\n",
        "    def __str__(self):\n",
        "        return f\"{self.numerator}/{self.denominator}\"\n",
        "\n",
        "\n",
        "fraction1 = Fraction(3, 4)\n",
        "print(fraction1)\n",
        "\n",
        "fraction2 = Fraction(1, 2)\n",
        "print(fraction2)\n",
        "\n",
        "try:\n",
        "    fraction3 = Fraction(1, 0)\n",
        "except ValueError as e:\n",
        "    print(e)\n",
        "\n"
      ],
      "metadata": {
        "colab": {
          "base_uri": "https://localhost:8080/"
        },
        "id": "1sm7iEWikfJM",
        "outputId": "0f84dcd2-790f-41d8-f145-c13089fae6f0"
      },
      "execution_count": 31,
      "outputs": [
        {
          "output_type": "stream",
          "name": "stdout",
          "text": [
            "3/4\n",
            "1/2\n",
            "Denominator cannot be zero.\n"
          ]
        }
      ]
    },
    {
      "cell_type": "code",
      "source": [
        "#10. Demonstrate operator overloading by creating a class Vector and overriding the add method to add two\n",
        "#vectors\n",
        "class Vector:\n",
        "    def __init__(self, x, y):\n",
        "        self.x = x\n",
        "        self.y = y\n",
        "\n",
        "    # Override the __add__ method to add two vectors\n",
        "    def __add__(self, other):\n",
        "        return Vector(self.x + other.x, self.y + other.y)\n",
        "\n",
        "    # Override the __str__ method to display the vector\n",
        "    def __str__(self):\n",
        "        return f\"({self.x}, {self.y})\"\n",
        "\n",
        "\n",
        "vector1 = Vector(2, 3)\n",
        "vector2 = Vector(4, 5)\n",
        "\n",
        "# Add two vectors using the + operator\n",
        "result_vector = vector1 + vector2\n",
        "\n",
        "print(\"Vector 1:\", vector1)\n",
        "print(\"Vector 2:\", vector2)\n",
        "print(\"Result Vector:\", result_vector)\n"
      ],
      "metadata": {
        "colab": {
          "base_uri": "https://localhost:8080/"
        },
        "id": "Pw-bEzPYmKJA",
        "outputId": "600edf98-a780-45bf-d228-245efdd9a410"
      },
      "execution_count": 32,
      "outputs": [
        {
          "output_type": "stream",
          "name": "stdout",
          "text": [
            "Vector 1: (2, 3)\n",
            "Vector 2: (4, 5)\n",
            "Result Vector: (6, 8)\n"
          ]
        }
      ]
    },
    {
      "cell_type": "code",
      "source": [
        "#11. Create a class Person with attributes name and age. Add a method greet() that prints \"Hello, my name is\n",
        "#{name} and I am {age} years old.\"\n",
        "\n",
        "class Person:\n",
        "    def __init__(self, name, age):\n",
        "        self.name = name\n",
        "        self.age = age\n",
        "\n",
        "    # Method to greet the prince\n",
        "    def greet(self):\n",
        "        print(f\"Hello, my name is {self.name} and I am {self.age} years old.\")\n",
        "\n",
        "# Example usage\n",
        "person = Person(\"John Doe\", 30)\n",
        "person.greet()\n"
      ],
      "metadata": {
        "colab": {
          "base_uri": "https://localhost:8080/"
        },
        "id": "PbMA8ceKmmNX",
        "outputId": "06453214-d3dc-4082-d152-eb90caecce4e"
      },
      "execution_count": 33,
      "outputs": [
        {
          "output_type": "stream",
          "name": "stdout",
          "text": [
            "Hello, my name is John Doe and I am 30 years old.\n"
          ]
        }
      ]
    },
    {
      "cell_type": "code",
      "source": [
        "#12.Implement a class Student with attributes name and grades. Create a method average_grade() to compute\n",
        "#the average of the grades.\n",
        "\n",
        "class Student:\n",
        "    def __init__(self, name, grades=None):\n",
        "        self.name = name\n",
        "        self.grades = grades if grades else []\n",
        "\n",
        "    # Method to add grades\n",
        "    def add_grade(self, grade):\n",
        "        self.grades.append(grade)\n",
        "\n",
        "    def average_grade(self):\n",
        "        if not self.grades:\n",
        "            return 0\n",
        "        return sum(self.grades) / len(self.grades)\n",
        "\n",
        "student = Student(\"John Doe\")\n",
        "student.add_grade(85)\n",
        "student.add_grade(90)\n",
        "student.add_grade(78)\n",
        "\n",
        "print(f\"Student Name: {student.name}\")\n",
        "print(f\"Grades: {student.grades}\")\n",
        "print(f\"Average Grade: {student.average_grade():.2f}\")\n"
      ],
      "metadata": {
        "colab": {
          "base_uri": "https://localhost:8080/"
        },
        "id": "Clont7smoYIS",
        "outputId": "693e6c56-88c4-4090-f8d5-4379514b7b16"
      },
      "execution_count": 34,
      "outputs": [
        {
          "output_type": "stream",
          "name": "stdout",
          "text": [
            "Student Name: John Doe\n",
            "Grades: [85, 90, 78]\n",
            "Average Grade: 84.33\n"
          ]
        }
      ]
    },
    {
      "cell_type": "code",
      "source": [
        "#13. Create a class Rectangle with methods set_dimensions() to set the dimensions and area() to calculate the\n",
        "#area.\n",
        "\n",
        "class Rectangle:\n",
        "    def __init__(self):\n",
        "        self.length = 0\n",
        "        self.width = 0\n",
        "\n",
        "    # Method to set the dimensions\n",
        "    def set_dimensions(self, length, width):\n",
        "        self.length = length\n",
        "        self.width = width\n",
        "\n",
        "    # Method to calculate the area\n",
        "    def area(self):\n",
        "        return self.length * self.width\n",
        "\n",
        "rectangle = Rectangle()\n",
        "rectangle.set_dimensions(5, 3)\n",
        "print(f\"Length: {rectangle.length}, Width: {rectangle.width}\")\n",
        "print(f\"Area: {rectangle.area()}\")\n"
      ],
      "metadata": {
        "colab": {
          "base_uri": "https://localhost:8080/"
        },
        "id": "RF6wG4vJosoZ",
        "outputId": "5fb12bc1-bbfc-4fef-8686-f78a9b51325a"
      },
      "execution_count": 35,
      "outputs": [
        {
          "output_type": "stream",
          "name": "stdout",
          "text": [
            "Length: 5, Width: 3\n",
            "Area: 15\n"
          ]
        }
      ]
    },
    {
      "cell_type": "code",
      "source": [
        "#14. Create a class Employee with a method calculate_salary() that computes the salary based on hours worked\n",
        "#and hourly rate. Create a derived class Manager that adds a bonus to the salary.\n",
        "class Employee:\n",
        "    def __init__(self, name, hours_worked, rate):\n",
        "        self.name = name\n",
        "        self.hours_worked = hours_worked\n",
        "        self.rate = rate\n",
        "\n",
        "    # Method to calculate the salary\n",
        "    def calculate_salary(self):\n",
        "        return self.hours_worked * self.rate\n",
        "\n",
        "class Manager(Employee):\n",
        "    def __init__(self, name, hours_worked, rate, bonus):\n",
        "        super().__init__(name, hours_worked, rate)\n",
        "        self.bonus = bonus\n",
        "\n",
        "    # Override the calculate_salary method to add the bonus\n",
        "    def calculate_salary(self):\n",
        "        return super().calculate_salary() + self.bonus\n",
        "\n",
        "employee = Employee(\"John Doe\", 40, 50)\n",
        "print(f\"Employee Name: {employee.name}\")\n",
        "print(f\"Employee Salary: ${employee.calculate_salary():.2f}\")\n",
        "\n",
        "manager = Manager(\"Jane Doe\", 40, 50, 1000)\n",
        "print(f\"\\nManager Name: {manager.name}\")\n",
        "print(f\"Manager Salary: ${manager.calculate_salary():.2f}\")\n",
        "\n"
      ],
      "metadata": {
        "colab": {
          "base_uri": "https://localhost:8080/"
        },
        "id": "oU_vjsUvpGPS",
        "outputId": "9b215084-f7c0-42d3-93f8-82433489aaf0"
      },
      "execution_count": 36,
      "outputs": [
        {
          "output_type": "stream",
          "name": "stdout",
          "text": [
            "Employee Name: John Doe\n",
            "Employee Salary: $2000.00\n",
            "\n",
            "Manager Name: Jane Doe\n",
            "Manager Salary: $3000.00\n"
          ]
        }
      ]
    },
    {
      "cell_type": "code",
      "source": [
        "#15. Create a class Product with attributes name, price, and quantity. Implement a method total_price() that\n",
        "#calculates the total price of the product.\n",
        "\n",
        "class Product:\n",
        "    def __init__(self, name, price, quantity):\n",
        "        self.name = name\n",
        "        self.price = price\n",
        "        self.quantity = quantity\n",
        "\n",
        "    def total_price(self):\n",
        "        return self.price * self.quantity\n",
        "\n",
        "product = Product(\"Apple iPhone\", 999.99, 2)\n",
        "print(f\"Product Name: {product.name}\")\n",
        "print(f\"Price: ${product.price:.2f}\")\n",
        "print(f\"Quantity: {product.quantity}\")\n",
        "print(f\"Total Price: ${product.total_price():.2f}\")\n"
      ],
      "metadata": {
        "colab": {
          "base_uri": "https://localhost:8080/"
        },
        "id": "uubHnsVypndy",
        "outputId": "d7d3076d-e61b-4f48-b51b-a2f6ba68f6a0"
      },
      "execution_count": 37,
      "outputs": [
        {
          "output_type": "stream",
          "name": "stdout",
          "text": [
            "Product Name: Apple iPhone\n",
            "Price: $999.99\n",
            "Quantity: 2\n",
            "Total Price: $1999.98\n"
          ]
        }
      ]
    },
    {
      "cell_type": "code",
      "source": [
        "#16. Create a class Animal with an abstract method sound(). Create two derived classes Cow and Sheep that\n",
        "#implement the sound() method.\n",
        "\n",
        "from abc import ABC, abstractmethod\n",
        "\n",
        "class Animal(ABC):\n",
        "    @abstractmethod\n",
        "    def sound(self):\n",
        "        pass\n",
        "\n",
        "# Derived class Cow\n",
        "class Cow(Animal):\n",
        "    def sound(self):\n",
        "        return \"Moo!\"\n",
        "\n",
        "# Derived class Sheep\n",
        "class Sheep(Animal):\n",
        "    def sound(self):\n",
        "        return \"Baa!\"\n",
        "\n",
        "cow = Cow()\n",
        "sheep = Sheep()\n",
        "\n",
        "print(f\"Cow says: {cow.sound()}\")\n",
        "print(f\"Sheep says: {sheep.sound()}\")\n"
      ],
      "metadata": {
        "colab": {
          "base_uri": "https://localhost:8080/"
        },
        "id": "18I3JNa9p9YV",
        "outputId": "694266f9-9bb6-4e8d-eda5-a7cca14761b8"
      },
      "execution_count": 38,
      "outputs": [
        {
          "output_type": "stream",
          "name": "stdout",
          "text": [
            "Cow says: Moo!\n",
            "Sheep says: Baa!\n"
          ]
        }
      ]
    },
    {
      "cell_type": "code",
      "source": [
        "#17. Create a class Book with attributes title, author, and year_published. Add a method get_book_info() that\n",
        "#returns a formatted string with the book's details.\n",
        "class Book:\n",
        "    def __init__(self, title, author, year, publisher):\n",
        "        self.title = title\n",
        "        self.author = author\n",
        "        self.year = year\n",
        "        self.publisher = publisher\n",
        "\n",
        "\n",
        "    def get_book_info(self):\n",
        "        return f\"'{self.title}' by {self.author}, published in {self.year} by {self.publisher}.\"\n",
        "\n",
        "\n",
        "book = Book(\"To Kill a Mockingbird\", \"Harper Lee\", 1960, \"J.B. Lippincott & Co.\")\n",
        "print(book.get_book_info())\n",
        "\n",
        "\n",
        "\n",
        "\n",
        "\n"
      ],
      "metadata": {
        "colab": {
          "base_uri": "https://localhost:8080/"
        },
        "id": "azKXBh9HqnK8",
        "outputId": "39e886b1-2f32-45d6-be9e-a60046b3043f"
      },
      "execution_count": 39,
      "outputs": [
        {
          "output_type": "stream",
          "name": "stdout",
          "text": [
            "'To Kill a Mockingbird' by Harper Lee, published in 1960 by J.B. Lippincott & Co..\n"
          ]
        }
      ]
    },
    {
      "cell_type": "code",
      "source": [
        "#18.Create a class House with attributes address and price. Create a derived class Mansion that adds an\n",
        "#attribute number_of_rooms.\n",
        "\n",
        "# Base class House\n",
        "class House:\n",
        "    def __init__(self, address, price):\n",
        "        self.address = address\n",
        "        self.price = price\n",
        "\n",
        "    # Method to display house information\n",
        "    def display_info(self):\n",
        "        return f\"Address: {self.address}, Price: ${self.price:,.2f}\"\n",
        "\n",
        "# Derived class Mansion\n",
        "class Mansion(House):\n",
        "    def __init__(self, address, price, number_of_rooms):\n",
        "        super().__init__(address, price)\n",
        "        self.number_of_rooms = number_of_rooms\n",
        "\n",
        "    # Override the display_info method to include number of rooms\n",
        "    def display_info(self):\n",
        "        return f\"{super().display_info()}, Number of Rooms: {self.number_of_rooms}\"\n",
        "\n",
        "# Example usage\n",
        "house = House(\"123 Main St\", 200000)\n",
        "print(house.display_info())\n",
        "\n",
        "mansion = Mansion(\"456 Luxury Dr\", 1000000, 10)\n",
        "print(mansion.display_info())\n"
      ],
      "metadata": {
        "colab": {
          "base_uri": "https://localhost:8080/"
        },
        "id": "qcmX-Jjuq34e",
        "outputId": "bd157f57-587e-4122-c890-3de964e17eed"
      },
      "execution_count": 40,
      "outputs": [
        {
          "output_type": "stream",
          "name": "stdout",
          "text": [
            "Address: 123 Main St, Price: $200,000.00\n",
            "Address: 456 Luxury Dr, Price: $1,000,000.00, Number of Rooms: 10\n"
          ]
        }
      ]
    }
  ]
}